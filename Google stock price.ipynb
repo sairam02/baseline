{
 "cells": [
  {
   "cell_type": "code",
   "execution_count": 1,
   "metadata": {},
   "outputs": [],
   "source": [
    "import numpy as np \n",
    "import pandas as pd \n",
    "import matplotlib.pyplot as plt \n",
    "from sklearn.preprocessing import MinMaxScaler\n",
    "from keras.models import Sequential\n",
    "from keras.layers import Dense,LSTM,Dropout"
   ]
  },
  {
   "cell_type": "code",
   "execution_count": 2,
   "metadata": {},
   "outputs": [
    {
     "data": {
      "text/html": [
       "<div>\n",
       "<style scoped>\n",
       "    .dataframe tbody tr th:only-of-type {\n",
       "        vertical-align: middle;\n",
       "    }\n",
       "\n",
       "    .dataframe tbody tr th {\n",
       "        vertical-align: top;\n",
       "    }\n",
       "\n",
       "    .dataframe thead th {\n",
       "        text-align: right;\n",
       "    }\n",
       "</style>\n",
       "<table border=\"1\" class=\"dataframe\">\n",
       "  <thead>\n",
       "    <tr style=\"text-align: right;\">\n",
       "      <th></th>\n",
       "      <th>Date</th>\n",
       "      <th>Open</th>\n",
       "      <th>High</th>\n",
       "      <th>Low</th>\n",
       "      <th>Close</th>\n",
       "      <th>Volume</th>\n",
       "    </tr>\n",
       "  </thead>\n",
       "  <tbody>\n",
       "    <tr>\n",
       "      <th>0</th>\n",
       "      <td>01-03-2012</td>\n",
       "      <td>325.25</td>\n",
       "      <td>332.83</td>\n",
       "      <td>324.97</td>\n",
       "      <td>663.59</td>\n",
       "      <td>73,80,500</td>\n",
       "    </tr>\n",
       "    <tr>\n",
       "      <th>1</th>\n",
       "      <td>01-04-2012</td>\n",
       "      <td>331.27</td>\n",
       "      <td>333.87</td>\n",
       "      <td>329.08</td>\n",
       "      <td>666.45</td>\n",
       "      <td>57,49,400</td>\n",
       "    </tr>\n",
       "    <tr>\n",
       "      <th>2</th>\n",
       "      <td>01-05-2012</td>\n",
       "      <td>329.83</td>\n",
       "      <td>330.75</td>\n",
       "      <td>326.89</td>\n",
       "      <td>657.21</td>\n",
       "      <td>65,90,300</td>\n",
       "    </tr>\n",
       "    <tr>\n",
       "      <th>3</th>\n",
       "      <td>01-06-2012</td>\n",
       "      <td>328.34</td>\n",
       "      <td>328.77</td>\n",
       "      <td>323.68</td>\n",
       "      <td>648.24</td>\n",
       "      <td>54,05,900</td>\n",
       "    </tr>\n",
       "    <tr>\n",
       "      <th>4</th>\n",
       "      <td>01-09-2012</td>\n",
       "      <td>322.04</td>\n",
       "      <td>322.29</td>\n",
       "      <td>309.46</td>\n",
       "      <td>620.76</td>\n",
       "      <td>1,16,88,800</td>\n",
       "    </tr>\n",
       "  </tbody>\n",
       "</table>\n",
       "</div>"
      ],
      "text/plain": [
       "         Date    Open    High     Low   Close       Volume\n",
       "0  01-03-2012  325.25  332.83  324.97  663.59    73,80,500\n",
       "1  01-04-2012  331.27  333.87  329.08  666.45    57,49,400\n",
       "2  01-05-2012  329.83  330.75  326.89  657.21    65,90,300\n",
       "3  01-06-2012  328.34  328.77  323.68  648.24    54,05,900\n",
       "4  01-09-2012  322.04  322.29  309.46  620.76  1,16,88,800"
      ]
     },
     "execution_count": 2,
     "metadata": {},
     "output_type": "execute_result"
    }
   ],
   "source": [
    "data = pd.read_csv('C:\\\\Users\\\\SAIRAM YERRAMSETTI\\\\Desktop\\\\Projects\\\\datasetsandcodefilesstockmarketprediction\\\\Google_train_data.csv')\n",
    "data.head()"
   ]
  },
  {
   "cell_type": "code",
   "execution_count": 3,
   "metadata": {},
   "outputs": [
    {
     "name": "stdout",
     "output_type": "stream",
     "text": [
      "<class 'pandas.core.frame.DataFrame'>\n",
      "RangeIndex: 1258 entries, 0 to 1257\n",
      "Data columns (total 6 columns):\n",
      " #   Column  Non-Null Count  Dtype  \n",
      "---  ------  --------------  -----  \n",
      " 0   Date    1258 non-null   object \n",
      " 1   Open    1258 non-null   float64\n",
      " 2   High    1258 non-null   float64\n",
      " 3   Low     1258 non-null   float64\n",
      " 4   Close   1258 non-null   object \n",
      " 5   Volume  1258 non-null   object \n",
      "dtypes: float64(3), object(3)\n",
      "memory usage: 59.1+ KB\n"
     ]
    }
   ],
   "source": [
    "data.info()"
   ]
  },
  {
   "cell_type": "code",
   "execution_count": 4,
   "metadata": {},
   "outputs": [],
   "source": [
    "data[\"Close\"]=pd.to_numeric(data.Close,errors='coerce')\n",
    "data = data.dropna()\n",
    "trainData = data.iloc[:,4:5].values"
   ]
  },
  {
   "cell_type": "code",
   "execution_count": 5,
   "metadata": {},
   "outputs": [
    {
     "name": "stdout",
     "output_type": "stream",
     "text": [
      "<class 'pandas.core.frame.DataFrame'>\n",
      "Int64Index: 1149 entries, 0 to 1257\n",
      "Data columns (total 6 columns):\n",
      " #   Column  Non-Null Count  Dtype  \n",
      "---  ------  --------------  -----  \n",
      " 0   Date    1149 non-null   object \n",
      " 1   Open    1149 non-null   float64\n",
      " 2   High    1149 non-null   float64\n",
      " 3   Low     1149 non-null   float64\n",
      " 4   Close   1149 non-null   float64\n",
      " 5   Volume  1149 non-null   object \n",
      "dtypes: float64(4), object(2)\n",
      "memory usage: 62.8+ KB\n"
     ]
    }
   ],
   "source": [
    "data.info()"
   ]
  },
  {
   "cell_type": "code",
   "execution_count": 6,
   "metadata": {},
   "outputs": [
    {
     "data": {
      "text/plain": [
       "(1149, 1)"
      ]
     },
     "execution_count": 6,
     "metadata": {},
     "output_type": "execute_result"
    }
   ],
   "source": [
    "sc = MinMaxScaler(feature_range=(0,1))\n",
    "trainData = sc.fit_transform(trainData)\n",
    "trainData.shape"
   ]
  },
  {
   "cell_type": "code",
   "execution_count": 7,
   "metadata": {},
   "outputs": [],
   "source": [
    "X_train = []\n",
    "y_train = []\n",
    "\n",
    "for i in range (60,1149): #60 : timestep // 1149 : length of the data\n",
    "    X_train.append(trainData[i-60:i,0]) \n",
    "    y_train.append(trainData[i,0])\n",
    "\n",
    "X_train,y_train = np.array(X_train),np.array(y_train)"
   ]
  },
  {
   "cell_type": "code",
   "execution_count": 8,
   "metadata": {},
   "outputs": [
    {
     "data": {
      "text/plain": [
       "(1089, 60, 1)"
      ]
     },
     "execution_count": 8,
     "metadata": {},
     "output_type": "execute_result"
    }
   ],
   "source": [
    "X_train = np.reshape(X_train,(X_train.shape[0],X_train.shape[1],1)) #adding the batch_size axis\n",
    "X_train.shape"
   ]
  },
  {
   "cell_type": "code",
   "execution_count": 9,
   "metadata": {},
   "outputs": [],
   "source": [
    "model = Sequential()\n",
    "\n",
    "model.add(LSTM(units=100, return_sequences = True, input_shape =(X_train.shape[1],1)))\n",
    "model.add(Dropout(0.2))\n",
    "\n",
    "model.add(LSTM(units=100, return_sequences = True))\n",
    "model.add(Dropout(0.2))\n",
    "\n",
    "model.add(LSTM(units=100, return_sequences = True))\n",
    "model.add(Dropout(0.2))\n",
    "\n",
    "model.add(LSTM(units=100, return_sequences = False))\n",
    "model.add(Dropout(0.2))\n",
    "\n",
    "model.add(Dense(units =1))\n",
    "model.compile(optimizer='adam',loss=\"mean_squared_error\")"
   ]
  },
  {
   "cell_type": "code",
   "execution_count": 10,
   "metadata": {},
   "outputs": [
    {
     "name": "stdout",
     "output_type": "stream",
     "text": [
      "Epoch 1/20\n",
      "35/35 - 11s - loss: 0.0327 - 11s/epoch - 313ms/step\n",
      "Epoch 2/20\n",
      "35/35 - 5s - loss: 0.0101 - 5s/epoch - 138ms/step\n",
      "Epoch 3/20\n",
      "35/35 - 5s - loss: 0.0095 - 5s/epoch - 138ms/step\n",
      "Epoch 4/20\n",
      "35/35 - 6s - loss: 0.0084 - 6s/epoch - 159ms/step\n",
      "Epoch 5/20\n",
      "35/35 - 6s - loss: 0.0074 - 6s/epoch - 158ms/step\n",
      "Epoch 6/20\n",
      "35/35 - 6s - loss: 0.0078 - 6s/epoch - 162ms/step\n",
      "Epoch 7/20\n",
      "35/35 - 6s - loss: 0.0065 - 6s/epoch - 162ms/step\n",
      "Epoch 8/20\n",
      "35/35 - 6s - loss: 0.0072 - 6s/epoch - 169ms/step\n",
      "Epoch 9/20\n",
      "35/35 - 6s - loss: 0.0068 - 6s/epoch - 162ms/step\n",
      "Epoch 10/20\n",
      "35/35 - 6s - loss: 0.0068 - 6s/epoch - 161ms/step\n",
      "Epoch 11/20\n",
      "35/35 - 6s - loss: 0.0059 - 6s/epoch - 162ms/step\n",
      "Epoch 12/20\n",
      "35/35 - 6s - loss: 0.0061 - 6s/epoch - 161ms/step\n",
      "Epoch 13/20\n",
      "35/35 - 6s - loss: 0.0051 - 6s/epoch - 161ms/step\n",
      "Epoch 14/20\n",
      "35/35 - 6s - loss: 0.0053 - 6s/epoch - 177ms/step\n",
      "Epoch 15/20\n",
      "35/35 - 6s - loss: 0.0053 - 6s/epoch - 170ms/step\n",
      "Epoch 16/20\n",
      "35/35 - 6s - loss: 0.0047 - 6s/epoch - 161ms/step\n",
      "Epoch 17/20\n",
      "35/35 - 5s - loss: 0.0051 - 5s/epoch - 157ms/step\n",
      "Epoch 18/20\n",
      "35/35 - 5s - loss: 0.0054 - 5s/epoch - 157ms/step\n",
      "Epoch 19/20\n",
      "35/35 - 5s - loss: 0.0065 - 5s/epoch - 154ms/step\n",
      "Epoch 20/20\n",
      "35/35 - 5s - loss: 0.0049 - 5s/epoch - 154ms/step\n"
     ]
    }
   ],
   "source": [
    "hist = model.fit(X_train, y_train, epochs = 20, batch_size = 32, verbose=2)"
   ]
  },
  {
   "cell_type": "code",
   "execution_count": 12,
   "metadata": {},
   "outputs": [
    {
     "data": {
      "image/png": "[encoded data removed]",
      "text/plain": [
       "<Figure size 432x288 with 1 Axes>"
      ]
     },
     "metadata": {
      "needs_background": "light"
     },
     "output_type": "display_data"
    }
   ],
   "source": [
    "plt.plot(hist.history['loss'])\n",
    "plt.title('Training model loss')\n",
    "plt.ylabel('loss')\n",
    "plt.xlabel('epoch')\n",
    "plt.legend(['train'], loc='upper right')\n",
    "plt.show()"
   ]
  },
  {
   "cell_type": "code",
   "execution_count": 13,
   "metadata": {},
   "outputs": [
    {
     "data": {
      "text/plain": [
       "(192, 60, 1)"
      ]
     },
     "execution_count": 13,
     "metadata": {},
     "output_type": "execute_result"
    }
   ],
   "source": [
    "testData = pd.read_csv('Google_test_data.csv')\n",
    "testData[\"Close\"]=pd.to_numeric(testData.Close,errors='coerce')\n",
    "testData = testData.dropna()\n",
    "testData = testData.iloc[:,4:5]\n",
    "y_test = testData.iloc[60:,0:].values \n",
    "#input array for the model\n",
    "inputClosing = testData.iloc[:,0:].values \n",
    "inputClosing_scaled = sc.transform(inputClosing)\n",
    "inputClosing_scaled.shape\n",
    "X_test = []\n",
    "length = len(testData)\n",
    "timestep = 60\n",
    "for i in range(timestep,length):  \n",
    "    X_test.append(inputClosing_scaled[i-timestep:i,0])\n",
    "X_test = np.array(X_test)\n",
    "X_test = np.reshape(X_test,(X_test.shape[0],X_test.shape[1],1))\n",
    "X_test.shape"
   ]
  },
  {
   "cell_type": "code",
   "execution_count": 14,
   "metadata": {},
   "outputs": [
    {
     "data": {
      "text/plain": [
       "array([[1.2888106],\n",
       "       [1.2939321],\n",
       "       [1.3081399],\n",
       "       [1.328375 ],\n",
       "       [1.3432368],\n",
       "       [1.3396969],\n",
       "       [1.3192335],\n",
       "       [1.2935463],\n",
       "       [1.2782501],\n",
       "       [1.2762845],\n",
       "       [1.2716006],\n",
       "       [1.2612756],\n",
       "       [1.2517141],\n",
       "       [1.2427384],\n",
       "       [1.2424691],\n",
       "       [1.2501414],\n",
       "       [1.2741064],\n",
       "       [1.3099716],\n",
       "       [1.3488945],\n",
       "       [1.3848761],\n",
       "       [1.3944458],\n",
       "       [1.382302 ],\n",
       "       [1.3497199],\n",
       "       [1.309079 ],\n",
       "       [1.2761959],\n",
       "       [1.2616044],\n",
       "       [1.2641214],\n",
       "       [1.2712055],\n",
       "       [1.2683102],\n",
       "       [1.258116 ],\n",
       "       [1.2446481],\n",
       "       [1.228483 ],\n",
       "       [1.204147 ],\n",
       "       [1.1744543],\n",
       "       [1.1640377],\n",
       "       [1.1793653],\n",
       "       [1.2104245],\n",
       "       [1.2435402],\n",
       "       [1.2719066],\n",
       "       [1.282738 ],\n",
       "       [1.2919402],\n",
       "       [1.304621 ],\n",
       "       [1.3214203],\n",
       "       [1.3377746],\n",
       "       [1.3481313],\n",
       "       [1.3468229],\n",
       "       [1.3319885],\n",
       "       [1.3193797],\n",
       "       [1.3167523],\n",
       "       [1.3260771],\n",
       "       [1.3449656],\n",
       "       [1.3579735],\n",
       "       [1.3612118],\n",
       "       [1.356157 ],\n",
       "       [1.3523122],\n",
       "       [1.3466021],\n",
       "       [1.335941 ],\n",
       "       [1.3310707],\n",
       "       [1.3432151],\n",
       "       [1.3671358],\n",
       "       [1.400056 ],\n",
       "       [1.437488 ],\n",
       "       [1.460869 ],\n",
       "       [1.4595953],\n",
       "       [1.4379474],\n",
       "       [1.4076737],\n",
       "       [1.3880881],\n",
       "       [1.3840156],\n",
       "       [1.3922226],\n",
       "       [1.403403 ],\n",
       "       [1.4134136],\n",
       "       [1.4187013],\n",
       "       [1.4137592],\n",
       "       [1.405382 ],\n",
       "       [1.3981718],\n",
       "       [1.3959907],\n",
       "       [1.3988755],\n",
       "       [1.4057921],\n",
       "       [1.4207846],\n",
       "       [1.4426037],\n",
       "       [1.4697231],\n",
       "       [1.4942063],\n",
       "       [1.5054878],\n",
       "       [1.5025299],\n",
       "       [1.5016301],\n",
       "       [1.513162 ],\n",
       "       [1.5336171],\n",
       "       [1.5519943],\n",
       "       [1.5617695],\n",
       "       [1.562283 ],\n",
       "       [1.5615152],\n",
       "       [1.570984 ],\n",
       "       [1.5912398],\n",
       "       [1.6054231],\n",
       "       [1.6032187],\n",
       "       [1.5849589],\n",
       "       [1.5556562],\n",
       "       [1.52391  ],\n",
       "       [1.4998285],\n",
       "       [1.494804 ],\n",
       "       [1.5086641],\n",
       "       [1.5343559],\n",
       "       [1.5646263],\n",
       "       [1.5882602],\n",
       "       [1.5993221],\n",
       "       [1.5965973],\n",
       "       [1.586836 ],\n",
       "       [1.5768714],\n",
       "       [1.5746908],\n",
       "       [1.5810322],\n",
       "       [1.5937319],\n",
       "       [1.6107787],\n",
       "       [1.6270751],\n",
       "       [1.6429157],\n",
       "       [1.6613867],\n",
       "       [1.6758944],\n",
       "       [1.6855832],\n",
       "       [1.6931221],\n",
       "       [1.7039436],\n",
       "       [1.6796529],\n",
       "       [1.6186028],\n",
       "       [1.543126 ],\n",
       "       [1.4857062],\n",
       "       [1.460256 ],\n",
       "       [1.4587108],\n",
       "       [1.468061 ],\n",
       "       [1.4785577],\n",
       "       [1.4869901],\n",
       "       [1.4820063],\n",
       "       [1.462221 ],\n",
       "       [1.450677 ],\n",
       "       [1.459189 ],\n",
       "       [1.4775265],\n",
       "       [1.4877312],\n",
       "       [1.4889964],\n",
       "       [1.4853302],\n",
       "       [1.4769807],\n",
       "       [1.464374 ],\n",
       "       [1.4512094],\n",
       "       [1.4350777],\n",
       "       [1.4190999],\n",
       "       [1.4022149],\n",
       "       [1.3654023],\n",
       "       [1.3200778],\n",
       "       [1.2770009],\n",
       "       [1.2459501],\n",
       "       [1.2372848],\n",
       "       [1.2533375],\n",
       "       [1.2846302],\n",
       "       [1.318214 ],\n",
       "       [1.3482134],\n",
       "       [1.369271 ],\n",
       "       [1.3820333],\n",
       "       [1.3912508],\n",
       "       [1.3977942],\n",
       "       [1.4042358],\n",
       "       [1.4134568],\n",
       "       [1.4217057],\n",
       "       [1.4169928],\n",
       "       [1.3980337],\n",
       "       [1.3710288],\n",
       "       [1.3462363],\n",
       "       [1.3350815],\n",
       "       [1.3425335],\n",
       "       [1.3661596],\n",
       "       [1.3994476],\n",
       "       [1.4273049],\n",
       "       [1.4451421],\n",
       "       [1.4577414],\n",
       "       [1.4679362],\n",
       "       [1.4757272],\n",
       "       [1.4819956],\n",
       "       [1.4872352],\n",
       "       [1.4883518],\n",
       "       [1.4852114],\n",
       "       [1.4741524],\n",
       "       [1.4608814],\n",
       "       [1.4527465],\n",
       "       [1.4487027],\n",
       "       [1.4454876],\n",
       "       [1.4813613],\n",
       "       [1.547176 ],\n",
       "       [1.6125971],\n",
       "       [1.6535059],\n",
       "       [1.6620852],\n",
       "       [1.6412759],\n",
       "       [1.5910379],\n",
       "       [1.5357387],\n",
       "       [1.4942304],\n",
       "       [1.4838971],\n",
       "       [1.494957 ],\n",
       "       [1.5102344]], dtype=float32)"
      ]
     },
     "execution_count": 14,
     "metadata": {},
     "output_type": "execute_result"
    }
   ],
   "source": [
    "y_pred = model.predict(X_test)\n",
    "y_pred"
   ]
  },
  {
   "cell_type": "code",
   "execution_count": 15,
   "metadata": {},
   "outputs": [],
   "source": [
    "predicted_price = sc.inverse_transform(y_pred)"
   ]
  },
  {
   "cell_type": "code",
   "execution_count": 16,
   "metadata": {},
   "outputs": [
    {
     "data": {
      "image/png": "[encoded data removed]",
      "text/plain": [
       "<Figure size 432x288 with 1 Axes>"
      ]
     },
     "metadata": {
      "needs_background": "light"
     },
     "output_type": "display_data"
    }
   ],
   "source": [
    "plt.plot(y_test, color = 'red', label = 'Actual Stock Price')\n",
    "plt.plot(predicted_price, color = 'green', label = 'Predicted Stock Price')\n",
    "plt.title('Google stock price prediction')\n",
    "plt.xlabel('Time')\n",
    "plt.ylabel('Stock Price')\n",
    "plt.legend()\n",
    "plt.show()"
   ]
  },
  {
   "cell_type": "code",
   "execution_count": null,
   "metadata": {},
   "outputs": [],
   "source": []
  }
 ],
 "metadata": {
  "kernelspec": {
   "display_name": "Python 3 (ipykernel)",
   "language": "python",
   "name": "python3"
  },
  "language_info": {
   "codemirror_mode": {
    "name": "ipython",
    "version": 3
   },
   "file_extension": ".py",
   "mimetype": "text/x-python",
   "name": "python",
   "nbconvert_exporter": "python",
   "pygments_lexer": "ipython3",
   "version": "3.9.7"
  }
 },
 "nbformat": 4,
 "nbformat_minor": 4
}
